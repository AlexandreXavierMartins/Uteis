{
  "nbformat": 4,
  "nbformat_minor": 0,
  "metadata": {
    "colab": {
      "name": "Untitled32.ipynb",
      "provenance": [],
      "authorship_tag": "ABX9TyNB1C8XH2QIGuJWYXwqSKOV",
      "include_colab_link": true
    },
    "kernelspec": {
      "name": "python3",
      "display_name": "Python 3"
    },
    "language_info": {
      "name": "python"
    }
  },
  "cells": [
    {
      "cell_type": "markdown",
      "metadata": {
        "id": "view-in-github",
        "colab_type": "text"
      },
      "source": [
        "<a href=\"https://colab.research.google.com/github/AlexandreXavierMartins/Uteis/blob/main/Arquivos.ipynb\" target=\"_parent\"><img src=\"https://colab.research.google.com/assets/colab-badge.svg\" alt=\"Open In Colab\"/></a>"
      ]
    },
    {
      "cell_type": "markdown",
      "source": [
        "Inicialmente carrega o arquivo no COLAB.\n",
        "Se rodar em outro ambiente, como spyder, isso não é necessário.\n",
        "Só precisa executar uma vez essa parte."
      ],
      "metadata": {
        "id": "xN6u-hemo8c8"
      }
    },
    {
      "cell_type": "code",
      "source": [
        "from google.colab import files\n",
        "uploaded = files.upload()\n",
        "\n"
      ],
      "metadata": {
        "id": "sOY8NRDmlPQS"
      },
      "execution_count": null,
      "outputs": []
    },
    {
      "cell_type": "markdown",
      "source": [
        "Depois de carregado o arquivo, vamos ler e imprimir para ver se está ok."
      ],
      "metadata": {
        "id": "bqYSwkFKpXbt"
      }
    },
    {
      "cell_type": "code",
      "source": [
        "\n",
        "arq = open('instancia.txt')\n",
        "print(arq.read())\n",
        "\n",
        "with open(\"instancia.txt\") as f:\n",
        "  for line in f:\n",
        "    x, y = line.split()\n",
        "    print(x)\n",
        "    print(y)\n",
        "\n",
        "\n"
      ],
      "metadata": {
        "id": "GsWkkJ5ypejC"
      },
      "execution_count": null,
      "outputs": []
    }
  ]
}